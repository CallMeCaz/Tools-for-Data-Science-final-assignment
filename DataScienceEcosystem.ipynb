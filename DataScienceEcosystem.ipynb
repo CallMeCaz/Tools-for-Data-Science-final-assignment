{
 "cells": [
  {
   "cell_type": "markdown",
   "id": "10caa2c5-3b2b-4083-a653-d93a3795d66b",
   "metadata": {},
   "source": [
    "# Data Science Tools and Ecosystem"
   ]
  },
  {
   "cell_type": "markdown",
   "id": "c208afae-6f2e-4ab6-a25a-e9ad6e1839c3",
   "metadata": {},
   "source": [
    "In this notebook, Data Science Tools and Ecosystem are summarized."
   ]
  },
  {
   "cell_type": "markdown",
   "id": "d3b0ec35-49f0-49cd-91d3-ade28f341294",
   "metadata": {},
   "source": [
    "**Objectives:**\n",
    "\n",
    "- List Popular Languages for Data Science\n",
    "- List Popular Libraries for Data Science\n",
    "- Create a table containing Data Science Tools\n",
    "- Write and execute Arithmetic Examples"
   ]
  },
  {
   "cell_type": "markdown",
   "id": "8ed358b4-ed84-4ba6-870c-eff7746aee00",
   "metadata": {},
   "source": [
    "Some of the popular languages that Data Scientists use are:\n",
    "\n",
    "1. Python\n",
    "2. R\n",
    "3. SQL"
   ]
  },
  {
   "cell_type": "markdown",
   "id": "771cb3cd-33d6-41e6-8e0c-c3917e07d011",
   "metadata": {},
   "source": [
    "Some of the commonly used libraries used by Data Scientists include:\n",
    "1. Pandas\n",
    "2. Matplotlib\n",
    "3. Scikit-learn"
   ]
  },
  {
   "cell_type": "markdown",
   "id": "6941aaae-ca2a-47f1-bc26-e334f1337144",
   "metadata": {},
   "source": [
    "| Data Science Tools |\n",
    "|-----|\n",
    "| MySQL |\n",
    "| Jupyter |\n",
    "| Apache Spark |"
   ]
  },
  {
   "cell_type": "markdown",
   "id": "79a515c2-6d3f-4755-bd9c-c750a7f36502",
   "metadata": {},
   "source": [
    "### Below are a few examples of evaluating arithmetic expressions in Python."
   ]
  },
  {
   "cell_type": "code",
   "execution_count": 7,
   "id": "2aacf339-de04-4262-b55d-18f606983ce2",
   "metadata": {},
   "outputs": [
    {
     "data": {
      "text/plain": [
       "17"
      ]
     },
     "execution_count": 7,
     "metadata": {},
     "output_type": "execute_result"
    }
   ],
   "source": [
    "# This is a simple arithmetic expression to multiply then add inetgers.\n",
    "(3*4)+5"
   ]
  },
  {
   "cell_type": "code",
   "execution_count": 9,
   "id": "f0b44243-cd77-41c0-9864-89801448fac3",
   "metadata": {},
   "outputs": [
    {
     "data": {
      "text/plain": [
       "3.3333333333333335"
      ]
     },
     "execution_count": 9,
     "metadata": {},
     "output_type": "execute_result"
    }
   ],
   "source": [
    "# This will convert 200 minutes to hours by dividing by 60.\n",
    "200/60"
   ]
  },
  {
   "cell_type": "markdown",
   "id": "8b8d7ebf-e081-4564-9faa-1751703fdcbb",
   "metadata": {},
   "source": [
    "## Author\n",
    "Alan Rodriguez"
   ]
  }
 ],
 "metadata": {
  "kernelspec": {
   "display_name": "Python 3 (ipykernel)",
   "language": "python",
   "name": "python3"
  },
  "language_info": {
   "codemirror_mode": {
    "name": "ipython",
    "version": 3
   },
   "file_extension": ".py",
   "mimetype": "text/x-python",
   "name": "python",
   "nbconvert_exporter": "python",
   "pygments_lexer": "ipython3",
   "version": "3.12.4"
  }
 },
 "nbformat": 4,
 "nbformat_minor": 5
}
